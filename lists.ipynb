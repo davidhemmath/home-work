{
 "cells": [
  {
   "cell_type": "code",
   "execution_count": 1,
   "id": "2ccc67eb-ff29-4f64-bcb7-c5cc87481572",
   "metadata": {},
   "outputs": [
    {
     "data": {
      "text/plain": [
       "5"
      ]
     },
     "execution_count": 1,
     "metadata": {},
     "output_type": "execute_result"
    }
   ],
   "source": [
    "# lists\n",
    "\n",
    "l=[1,2,3,[4,5,[6,7,],8],9]\n",
    "l[3][1]"
   ]
  },
  {
   "cell_type": "code",
   "execution_count": 5,
   "id": "1cb65117-e0ee-4b46-964d-d2cd07e3d7d8",
   "metadata": {},
   "outputs": [
    {
     "name": "stdout",
     "output_type": "stream",
     "text": [
      "[1, 2, 3, [5, [6, 7], 8], 9]\n"
     ]
    }
   ],
   "source": [
    "#remove \n",
    "l=[1,2,3,[4,5,[6,7,],8],9]\n",
    "l[3].remove(4)\n",
    "print(l)"
   ]
  },
  {
   "cell_type": "code",
   "execution_count": 7,
   "id": "c33aa6c4-f918-4aa5-b7bc-dd3bc48dcb9b",
   "metadata": {},
   "outputs": [
    {
     "name": "stdout",
     "output_type": "stream",
     "text": [
      "[2, 3, [4, 5, [6, 7], 8], 9]\n"
     ]
    }
   ],
   "source": [
    "#pop\n",
    "l=[1,2,3,[4,5,[6,7,],8],9]\n",
    "l.pop(0)\n",
    "print(l)"
   ]
  },
  {
   "cell_type": "code",
   "execution_count": 8,
   "id": "233a5a07-1c04-4517-94f9-9cd61a57476a",
   "metadata": {},
   "outputs": [
    {
     "name": "stdout",
     "output_type": "stream",
     "text": [
      "[1, 2, 3, 5]\n"
     ]
    }
   ],
   "source": [
    "l=[1,2,3]\n",
    "l.append(5)\n",
    "print (l)"
   ]
  },
  {
   "cell_type": "code",
   "execution_count": null,
   "id": "dc2a38bc-2732-4eb0-ac0f-9babc9ce204e",
   "metadata": {},
   "outputs": [],
   "source": [
    "#tuples      for tuples() brackets are used \n",
    "\n",
    "\n",
    "\n",
    "\n",
    "\n",
    "\n",
    "\n"
   ]
  }
 ],
 "metadata": {
  "kernelspec": {
   "display_name": "Python [conda env:base] *",
   "language": "python",
   "name": "conda-base-py"
  },
  "language_info": {
   "codemirror_mode": {
    "name": "ipython",
    "version": 3
   },
   "file_extension": ".py",
   "mimetype": "text/x-python",
   "name": "python",
   "nbconvert_exporter": "python",
   "pygments_lexer": "ipython3",
   "version": "3.13.5"
  }
 },
 "nbformat": 4,
 "nbformat_minor": 5
}
