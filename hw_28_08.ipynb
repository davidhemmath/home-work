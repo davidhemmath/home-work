{
 "cells": [
  {
   "cell_type": "code",
   "execution_count": 3,
   "id": "cfbea7a9-4fcc-4b48-8369-5ab97ddf9c01",
   "metadata": {},
   "outputs": [
    {
     "data": {
      "text/plain": [
       "2"
      ]
     },
     "execution_count": 3,
     "metadata": {},
     "output_type": "execute_result"
    }
   ],
   "source": [
    "a=6\n",
    "b=3\n",
    "print(a&b)"
   ]
  },
  {
   "cell_type": "code",
   "execution_count": 4,
   "id": "1889b2f3-fbee-4416-8dc1-0de89ff2ecbd",
   "metadata": {},
   "outputs": [
    {
     "name": "stdout",
     "output_type": "stream",
     "text": [
      "hiihiihiihiihii\n"
     ]
    }
   ],
   "source": [
    "print(\"hii\" *5);"
   ]
  },
  {
   "cell_type": "code",
   "execution_count": 6,
   "id": "4542a980-9a7e-4773-9bf8-dbc1a8cc5ee9",
   "metadata": {},
   "outputs": [
    {
     "name": "stdout",
     "output_type": "stream",
     "text": [
      "['how', 'are', 'you']\n"
     ]
    }
   ],
   "source": [
    "a=\"how are you\";\n",
    "print(a.split());"
   ]
  },
  {
   "cell_type": "code",
   "execution_count": 8,
   "id": "bf952c80-d770-4ed7-b4fd-3a8d15dc736b",
   "metadata": {},
   "outputs": [
    {
     "name": "stdout",
     "output_type": "stream",
     "text": [
      "30\n",
      "0.5\n"
     ]
    }
   ],
   "source": [
    "# operators ...... arithmetic\n",
    "a=10\n",
    "b=20\n",
    "print(a+b);\n",
    "print(a/b);\n"
   ]
  },
  {
   "cell_type": "code",
   "execution_count": 11,
   "id": "7c60a6f1-bc92-430a-bb51-b697497b688d",
   "metadata": {},
   "outputs": [
    {
     "name": "stdout",
     "output_type": "stream",
     "text": [
      "25\n"
     ]
    }
   ],
   "source": [
    "#assignent operators\n",
    "\n",
    "a=20\n",
    "b=a+5\n",
    "print(b);\n"
   ]
  },
  {
   "cell_type": "code",
   "execution_count": 14,
   "id": "0aa2dc1d-7f8f-43b2-b6d8-70e7c6c79da4",
   "metadata": {},
   "outputs": [
    {
     "name": "stdout",
     "output_type": "stream",
     "text": [
      "False\n",
      "True\n",
      "False\n"
     ]
    }
   ],
   "source": [
    "#comparision operators\n",
    "a= 10\n",
    "b=10\n",
    "print(a!=b);\n",
    "print(a==b);\n",
    "print(a<b);\n",
    "\n"
   ]
  },
  {
   "cell_type": "code",
   "execution_count": 17,
   "id": "981f42bc-8dd8-41e6-8f51-6130c0ad338e",
   "metadata": {},
   "outputs": [
    {
     "name": "stdout",
     "output_type": "stream",
     "text": [
      "False\n"
     ]
    }
   ],
   "source": [
    "# logical operators\n",
    "\n",
    "a=10\n",
    "print(a<3 or a>10)\n"
   ]
  },
  {
   "cell_type": "code",
   "execution_count": 19,
   "id": "c36b861b-8b09-44ac-961c-0b07aeb81f4c",
   "metadata": {},
   "outputs": [
    {
     "name": "stdout",
     "output_type": "stream",
     "text": [
      "True\n",
      "False\n"
     ]
    }
   ],
   "source": [
    "# identity operators\n",
    "a=10\n",
    "\n",
    "\n",
    "b=a\n",
    "print(a is b ); \n",
    "print( a is not b);"
   ]
  },
  {
   "cell_type": "code",
   "execution_count": 22,
   "id": "465b7632-1707-402b-96de-f6aea964de41",
   "metadata": {},
   "outputs": [
    {
     "name": "stdout",
     "output_type": "stream",
     "text": [
      "True\n",
      "True\n"
     ]
    }
   ],
   "source": [
    "#membership operator\n",
    "a=[\"david\",\"jon\"]\n",
    "print(\"jon\" in a);\n",
    "print (\"davi\" not in a);"
   ]
  },
  {
   "cell_type": "code",
   "execution_count": 11,
   "id": "1651b78d-3dfb-4b1a-9581-c336a2ec77ac",
   "metadata": {},
   "outputs": [
    {
     "name": "stdin",
     "output_type": "stream",
     "text": [
      "Enter the skill:  python\n",
      "Enter the experience:  1\n",
      "Enter your location (ch, cbe):  ch\n"
     ]
    },
    {
     "name": "stdout",
     "output_type": "stream",
     "text": [
      "Tcs\n"
     ]
    }
   ],
   "source": [
    "skill = input(\"Enter the skill: \")\n",
    "exp = int(input(\"Enter the experience: \"))\n",
    "location = input(\"Enter your location (ch, cbe): \")\n",
    "\n",
    "if skill == \"python\":\n",
    "    if exp == 1 and location== \"ch\":\n",
    "        print (\"Tcs\");\n",
    "    elif location==\"ch\" and exp== 2:\n",
    "        print(\"Wibro\");\n",
    "    elif exp == 1 and location==\"cbe\":\n",
    "        print (\"cbe needs only java devolepers\");\n",
    "    elif exp== 2 and location == \"cbe\":\n",
    "        print (\"cbe needs only java devolepers\");  \n",
    "elif skill ==\"java\":\n",
    "    if exp==1 and location==\"cbe\":\n",
    "        print (\"cog\");\n",
    "    elif exp== 2 and location  ==\"cbe\":\n",
    "        print (\"acc\");\n",
    "    elif exp == 2 and location == \"ch\":\n",
    "        print (\"HCL\")\n",
    "    elif exp ==1 and location ==\"ch\":\n",
    "        print (\"not allocated\");\n"
   ]
  },
  {
   "cell_type": "code",
   "execution_count": null,
   "id": "b8246e7e-9cd4-4618-b739-11cf3b2f7072",
   "metadata": {},
   "outputs": [],
   "source": [
    "\n",
    "\n",
    "\n",
    "\n",
    "\n",
    "\n",
    "\n",
    "\n",
    "\n",
    "\n",
    "\n",
    "\n",
    "\n",
    "\n",
    "\n",
    "\n",
    "\n"
   ]
  }
 ],
 "metadata": {
  "kernelspec": {
   "display_name": "Python [conda env:base] *",
   "language": "python",
   "name": "conda-base-py"
  },
  "language_info": {
   "codemirror_mode": {
    "name": "ipython",
    "version": 3
   },
   "file_extension": ".py",
   "mimetype": "text/x-python",
   "name": "python",
   "nbconvert_exporter": "python",
   "pygments_lexer": "ipython3",
   "version": "3.13.5"
  }
 },
 "nbformat": 4,
 "nbformat_minor": 5
}
