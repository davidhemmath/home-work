{
 "cells": [
  {
   "cell_type": "code",
   "execution_count": 1,
   "id": "89151642-eaf2-49b3-b356-67fa0063c8f2",
   "metadata": {},
   "outputs": [
    {
     "ename": "NameError",
     "evalue": "name 'one' is not defined",
     "output_type": "error",
     "traceback": [
      "\u001b[1;31m---------------------------------------------------------------------------\u001b[0m",
      "\u001b[1;31mNameError\u001b[0m                                 Traceback (most recent call last)",
      "Cell \u001b[1;32mIn[1], line 4\u001b[0m\n\u001b[0;32m      1\u001b[0m \u001b[38;5;66;03m#tuples     for tuples () these brackets are used \u001b[39;00m\n\u001b[0;32m      3\u001b[0m k\u001b[38;5;241m=\u001b[39m(\u001b[38;5;241m1\u001b[39m,\u001b[38;5;241m2\u001b[39m,\u001b[38;5;241m3\u001b[39m,\u001b[38;5;241m4\u001b[39m,\u001b[38;5;241m5\u001b[39m)\n\u001b[1;32m----> 4\u001b[0m (one,\u001b[38;5;241m*\u001b[39mtwo)\n\u001b[0;32m      5\u001b[0m \u001b[38;5;28mprint\u001b[39m(k)\n",
      "\u001b[1;31mNameError\u001b[0m: name 'one' is not defined"
     ]
    }
   ],
   "source": [
    "#tuples     for tuples () these brackets are used \n",
    "\n",
    "k=(1,2,3,4,5)\n",
    "(one,*two)\n",
    "print(k)"
   ]
  },
  {
   "cell_type": "code",
   "execution_count": 2,
   "id": "8312ff64-ef5e-469e-89d8-9662a3d758be",
   "metadata": {},
   "outputs": [
    {
     "name": "stdout",
     "output_type": "stream",
     "text": [
      "['daii', 'hello']\n"
     ]
    }
   ],
   "source": [
    "# can change list to tuple by command list()\n",
    "\n",
    "k=(\"daii\",\"thambe\",\"hello\")\n",
    "l=list(k)\n",
    "l.remove(\"thambe\")\n",
    "print(l)"
   ]
  },
  {
   "cell_type": "code",
   "execution_count": 5,
   "id": "f9eb9111-c5b6-464f-b7ad-bb659f2f702f",
   "metadata": {},
   "outputs": [
    {
     "name": "stdout",
     "output_type": "stream",
     "text": [
      "2\n"
     ]
    }
   ],
   "source": [
    "#to find the index value\n",
    "k=[1,2,3,4]\n",
    "i=k.index(3)\n",
    "print(i)\n"
   ]
  },
  {
   "cell_type": "code",
   "execution_count": null,
   "id": "0a477f74-f295-4613-9f9d-3e6337653855",
   "metadata": {},
   "outputs": [],
   "source": [
    "#  sets ..... they dont allow duplicates and it is unordered"
   ]
  }
 ],
 "metadata": {
  "kernelspec": {
   "display_name": "Python [conda env:base] *",
   "language": "python",
   "name": "conda-base-py"
  },
  "language_info": {
   "codemirror_mode": {
    "name": "ipython",
    "version": 3
   },
   "file_extension": ".py",
   "mimetype": "text/x-python",
   "name": "python",
   "nbconvert_exporter": "python",
   "pygments_lexer": "ipython3",
   "version": "3.13.5"
  }
 },
 "nbformat": 4,
 "nbformat_minor": 5
}
